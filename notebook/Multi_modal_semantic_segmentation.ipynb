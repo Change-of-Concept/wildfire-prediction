{
  "nbformat": 4,
  "nbformat_minor": 0,
  "metadata": {
    "colab": {
      "provenance": [],
      "gpuType": "V28"
    },
    "kernelspec": {
      "name": "python3",
      "display_name": "Python 3"
    },
    "language_info": {
      "name": "python"
    },
    "accelerator": "TPU"
  },
  "cells": [
    {
      "cell_type": "code",
      "execution_count": 1,
      "metadata": {
        "colab": {
          "base_uri": "https://localhost:8080/"
        },
        "collapsed": true,
        "id": "wlZjAWniLnWD",
        "outputId": "89ea0163-352c-483b-f506-468a8e6313b3"
      },
      "outputs": [
        {
          "output_type": "stream",
          "name": "stdout",
          "text": [
            "Archive:  colabdataset.zip\n",
            "   creating: images/\n",
            "  inflating: images/2018-06-01.tiff  \n",
            "  inflating: images/2019-05-10.tiff  \n",
            "  inflating: images/2019-05-17.tiff  \n",
            "  inflating: images/2019-05-28.tiff  \n",
            "  inflating: images/2020-05-02.tiff  \n",
            "  inflating: images/2020-05-09.tiff  \n",
            "  inflating: images/2020-05-31.tiff  \n",
            "  inflating: images/2021-05-02.tiff  \n",
            "  inflating: images/2021-05-04.tiff  \n",
            "  inflating: images/2021-05-15.tiff  \n",
            "  inflating: images/2021-05-26.tiff  \n",
            "  inflating: images/2021-06-03.tiff  \n",
            "  inflating: images/2021-06-03_2.tiff  \n",
            "  inflating: images/2021-06-03_3.tiff  \n",
            "  inflating: images/2021-06-03_4.tiff  \n",
            "  inflating: images/2021-06-03_5.tiff  \n",
            "  inflating: images/2021-06-06.tiff  \n",
            "  inflating: images/2021-06-06_2.tiff  \n",
            "  inflating: images/2021-06-08.tiff  \n",
            "  inflating: images/2021-06-16.tiff  \n",
            "  inflating: images/2021-06-16_2.tiff  \n",
            "   creating: weather/\n",
            "  inflating: weather/2018-06-01_weather.csv  \n",
            "  inflating: weather/2019-05-10_weather.csv  \n",
            "  inflating: weather/2019-05-17_weather.csv  \n",
            "  inflating: weather/2019-05-28_weather.csv  \n",
            "  inflating: weather/2020-05-02_weather.csv  \n",
            "  inflating: weather/2020-05-09_weather.csv  \n",
            "  inflating: weather/2020-05-31_weather.csv  \n",
            "  inflating: weather/2021-05-02_weather.csv  \n",
            "  inflating: weather/2021-05-04_weather.csv  \n",
            "  inflating: weather/2021-05-15_weather.csv  \n",
            "  inflating: weather/2021-05-26_weather.csv  \n",
            "  inflating: weather/2021-06-03_2_weather.csv  \n",
            "  inflating: weather/2021-06-03_3_weather.csv  \n",
            "  inflating: weather/2021-06-03_4_weather.csv  \n",
            "  inflating: weather/2021-06-03_5_weather.csv  \n",
            "  inflating: weather/2021-06-03_weather.csv  \n",
            "  inflating: weather/2021-06-06_2_weather.csv  \n",
            "  inflating: weather/2021-06-06_weather.csv  \n",
            "  inflating: weather/2021-06-08_weather.csv  \n",
            "  inflating: weather/2021-06-16_2_weather.csv  \n",
            "  inflating: weather/2021-06-16_weather.csv  \n"
          ]
        }
      ],
      "source": [
        "!unzip colabdataset.zip"
      ]
    },
    {
      "cell_type": "code",
      "source": [
        "!pip install rasterio"
      ],
      "metadata": {
        "colab": {
          "base_uri": "https://localhost:8080/"
        },
        "collapsed": true,
        "id": "-W9rUT3TLtgS",
        "outputId": "536b3519-f15f-4cd2-e291-882896d9bf63"
      },
      "execution_count": 2,
      "outputs": [
        {
          "output_type": "stream",
          "name": "stdout",
          "text": [
            "Collecting rasterio\n",
            "  Downloading rasterio-1.3.11-cp310-cp310-manylinux_2_17_x86_64.manylinux2014_x86_64.whl.metadata (14 kB)\n",
            "Collecting affine (from rasterio)\n",
            "  Downloading affine-2.4.0-py3-none-any.whl.metadata (4.0 kB)\n",
            "Requirement already satisfied: attrs in /usr/local/lib/python3.10/dist-packages (from rasterio) (24.2.0)\n",
            "Requirement already satisfied: certifi in /usr/local/lib/python3.10/dist-packages (from rasterio) (2024.8.30)\n",
            "Requirement already satisfied: click>=4.0 in /usr/local/lib/python3.10/dist-packages (from rasterio) (8.1.7)\n",
            "Collecting cligj>=0.5 (from rasterio)\n",
            "  Downloading cligj-0.7.2-py3-none-any.whl.metadata (5.0 kB)\n",
            "Requirement already satisfied: numpy in /usr/local/lib/python3.10/dist-packages (from rasterio) (1.26.4)\n",
            "Collecting snuggs>=1.4.1 (from rasterio)\n",
            "  Downloading snuggs-1.4.7-py3-none-any.whl.metadata (3.4 kB)\n",
            "Collecting click-plugins (from rasterio)\n",
            "  Downloading click_plugins-1.1.1-py2.py3-none-any.whl.metadata (6.4 kB)\n",
            "Requirement already satisfied: setuptools in /usr/local/lib/python3.10/dist-packages (from rasterio) (71.0.4)\n",
            "Requirement already satisfied: pyparsing>=2.1.6 in /usr/local/lib/python3.10/dist-packages (from snuggs>=1.4.1->rasterio) (3.1.4)\n",
            "Downloading rasterio-1.3.11-cp310-cp310-manylinux_2_17_x86_64.manylinux2014_x86_64.whl (21.7 MB)\n",
            "\u001b[2K   \u001b[90m━━━━━━━━━━━━━━━━━━━━━━━━━━━━━━━━━━━━━━━━\u001b[0m \u001b[32m21.7/21.7 MB\u001b[0m \u001b[31m52.2 MB/s\u001b[0m eta \u001b[36m0:00:00\u001b[0m\n",
            "\u001b[?25hDownloading cligj-0.7.2-py3-none-any.whl (7.1 kB)\n",
            "Downloading snuggs-1.4.7-py3-none-any.whl (5.4 kB)\n",
            "Downloading affine-2.4.0-py3-none-any.whl (15 kB)\n",
            "Downloading click_plugins-1.1.1-py2.py3-none-any.whl (7.5 kB)\n",
            "Installing collected packages: snuggs, cligj, click-plugins, affine, rasterio\n",
            "Successfully installed affine-2.4.0 click-plugins-1.1.1 cligj-0.7.2 rasterio-1.3.11 snuggs-1.4.7\n"
          ]
        }
      ]
    },
    {
      "cell_type": "markdown",
      "source": [
        "# Предобработка изображений и таблиц\n",
        "Масштабирование, заполнение пропущенных значений, приведение к одной размерности"
      ],
      "metadata": {
        "id": "79Em3YJ67Jk0"
      }
    },
    {
      "cell_type": "code",
      "source": [
        "import rasterio\n",
        "import pandas as pd\n",
        "import numpy as np\n",
        "import os\n",
        "\n",
        "# Путь к папке с изображениями и таблицами\n",
        "image_folder = './images'\n",
        "csv_folder = './weather'\n",
        "\n",
        "# Загрузка изображений и масок\n",
        "images = []\n",
        "masks = []\n",
        "for filename in os.listdir(image_folder):\n",
        "    if filename.endswith('.tiff'):\n",
        "        with rasterio.open(os.path.join(image_folder, filename)) as src:\n",
        "            img = src.read()  # Чтение всех каналов\n",
        "\n",
        "            images.append(img[:4])\n",
        "            # Предполагается, что маска хранится в последнем канале\n",
        "            masks.append(img[-1])  # Последний канал как маска\n",
        "\n",
        "# Загрузка погодных данных\n",
        "weather_data = {}\n",
        "for filename in os.listdir(csv_folder):\n",
        "    if filename.endswith('.csv'):\n",
        "        data = pd.read_csv(os.path.join(csv_folder, filename))\n",
        "        data = data.drop(columns=['time', 'Порывы ветра'])\n",
        "\n",
        "        # Заполнение пропущенных значений средними значениями по столбцам\n",
        "        data = data.fillna(data.mean())\n",
        "        data = data.fillna(0)\n",
        "        weather_data[filename] = data\n",
        "\n",
        "# Приведение изображений к одному размеру\n",
        "from skimage.transform import resize\n",
        "\n",
        "target_size = (256, 256)  # Пример целевого размера\n",
        "processed_images = []\n",
        "processed_masks = []\n",
        "\n",
        "for img, mask in zip(images, masks):\n",
        "    img_resized = resize(img.transpose(1, 2, 0), target_size, anti_aliasing=True)\n",
        "    mask_resized = resize(mask, target_size, order=0)  # Маска без интерполяции\n",
        "    processed_images.append(img_resized)\n",
        "    processed_masks.append(mask_resized)\n",
        "\n",
        "# Нормализация значений пикселей\n",
        "processed_images = np.array(processed_images) / 255.0\n",
        "processed_masks = np.array(processed_masks)  # Маски могут быть целыми числами\n",
        "\n",
        "# Преобразование масок в формат one-hot\n",
        "num_classes = 5  # Укажите количество классов\n",
        "processed_masks_one_hot = np.eye(num_classes)[processed_masks.astype(int)]\n",
        "\n",
        "# Обработка погодных данных\n",
        "weather_features = []\n",
        "for filename, data in weather_data.items():\n",
        "    features = data[['Тсред', 'Тмин', 'Тмакс', 'Осадки всего', 'Направление ветра', 'Скорость ветра', 'Давление на уровне моря']].values\n",
        "    weather_features.append(features)\n",
        "\n",
        "# Приведение к одинаковой размерности\n",
        "max_length = max(len(f) for f in weather_features)\n",
        "for i in range(len(weather_features)):\n",
        "    if len(weather_features[i]) < max_length:\n",
        "        weather_features[i] = np.pad(weather_features[i], ((0, max_length - len(weather_features[i])), (0, 0)), 'constant')\n",
        "\n",
        "weather_features = np.array(weather_features)"
      ],
      "metadata": {
        "id": "SMImlyDdfkyI"
      },
      "execution_count": 119,
      "outputs": []
    },
    {
      "cell_type": "markdown",
      "source": [
        "# Архитектура модель\n",
        "U-NET + конкатенация с табличными данными"
      ],
      "metadata": {
        "id": "_woNYFpH7odV"
      }
    },
    {
      "cell_type": "code",
      "source": [
        "import tensorflow as tf\n",
        "from tensorflow.keras.models import Model\n",
        "from tensorflow.keras.layers import Input, Conv2D, MaxPooling2D, UpSampling2D, Concatenate, Flatten, Dense, Reshape\n",
        "from tensorflow.keras.optimizers import Adam\n",
        "\n",
        "# Входные слои\n",
        "image_input = Input(shape=(256, 256, 4))  # 4 канала - r, g, b, ik\n",
        "weather_input = Input(shape=(max_length, 7))  # 7 признаков о погоде\n",
        "\n",
        "# Кодировщик U-NET\n",
        "c1 = Conv2D(32, (3, 3), activation='relu', padding='same')(image_input)\n",
        "p1 = MaxPooling2D((2, 2))(c1)\n",
        "\n",
        "c2 = Conv2D(64, (3, 3), activation='relu', padding='same')(p1)\n",
        "p2 = MaxPooling2D((2, 2))(c2)\n",
        "\n",
        "c3 = Conv2D(128, (3, 3), activation='relu', padding='same')(p2)\n",
        "p3 = MaxPooling2D((2, 2))(c3)\n",
        "\n",
        "# Декодировщик U-NET\n",
        "u1 = UpSampling2D((2, 2))(p3)\n",
        "c4 = Conv2D(128, (3, 3), activation='relu', padding='same')(u1)\n",
        "m1 = Concatenate()([c4, c3])\n",
        "\n",
        "u2 = UpSampling2D((2, 2))(m1)\n",
        "c5 = Conv2D(64, (3, 3), activation='relu', padding='same')(u2)\n",
        "m2 = Concatenate()([c5, c2])\n",
        "\n",
        "# Выходной слой\n",
        "output = Conv2D(num_classes, (1, 1), activation='softmax')(m2)\n",
        "\n",
        "# Обработка табличных данных\n",
        "y = Flatten()(weather_input)\n",
        "\n",
        "# Объединение признаков\n",
        "combined = Concatenate()([Flatten()(output), y])\n",
        "z = Dense(128, activation='relu')(combined)\n",
        "z = Dense(256 * 256 * num_classes, activation='sigmoid')(z)\n",
        "final_output = Reshape((256, 256, num_classes))(z)\n",
        "\n",
        "model = Model(inputs=[image_input, weather_input], outputs=final_output)\n",
        "\n",
        "# Использование categorical_crossentropy\n",
        "optimizer = Adam(learning_rate=0.0001)\n",
        "model.compile(optimizer=optimizer,\n",
        "              loss='categorical_crossentropy',\n",
        "              metrics=['accuracy'])\n"
      ],
      "metadata": {
        "id": "gSo6pMaIkTpd"
      },
      "execution_count": 120,
      "outputs": []
    },
    {
      "cell_type": "markdown",
      "source": [
        "# Обучение модели"
      ],
      "metadata": {
        "id": "FhBbNwlI72it"
      }
    },
    {
      "cell_type": "code",
      "source": [
        "from sklearn.model_selection import train_test_split\n",
        "\n",
        "X_images_train, X_images_test, y_masks_train, y_masks_test, X_weather_train, X_weather_test = train_test_split(\n",
        "    processed_images,\n",
        "    processed_masks_one_hot,\n",
        "    weather_features,\n",
        "    test_size=0.2,  # 20% данных для теста\n",
        "    random_state=42  # Для воспроизводимости\n",
        ")\n",
        "\n",
        "model.fit([X_images_train, X_weather_train], y_masks_train, epochs=10, batch_size=8, validation_split=0.2)"
      ],
      "metadata": {
        "colab": {
          "base_uri": "https://localhost:8080/"
        },
        "id": "IHOYhJnxkWIM",
        "outputId": "fc2eae03-2e3c-403d-ecf1-14f83d30fecb"
      },
      "execution_count": 121,
      "outputs": [
        {
          "output_type": "stream",
          "name": "stdout",
          "text": [
            "Epoch 1/10\n",
            "2/2 [==============================] - 3s 807ms/step - loss: 1.6146 - accuracy: 0.2330 - val_loss: 1.4985 - val_accuracy: 0.4041\n",
            "Epoch 2/10\n",
            "2/2 [==============================] - 1s 620ms/step - loss: 1.4571 - accuracy: 0.4633 - val_loss: 1.2839 - val_accuracy: 0.7037\n",
            "Epoch 3/10\n",
            "2/2 [==============================] - 2s 669ms/step - loss: 1.1988 - accuracy: 0.7417 - val_loss: 1.0141 - val_accuracy: 0.8624\n",
            "Epoch 4/10\n",
            "2/2 [==============================] - 2s 677ms/step - loss: 0.9312 - accuracy: 0.8746 - val_loss: 0.8002 - val_accuracy: 0.9019\n",
            "Epoch 5/10\n",
            "2/2 [==============================] - 2s 691ms/step - loss: 0.6887 - accuracy: 0.9007 - val_loss: 0.6948 - val_accuracy: 0.9114\n",
            "Epoch 6/10\n",
            "2/2 [==============================] - 2s 678ms/step - loss: 0.5515 - accuracy: 0.9071 - val_loss: 0.6634 - val_accuracy: 0.9145\n",
            "Epoch 7/10\n",
            "2/2 [==============================] - 2s 676ms/step - loss: 0.4685 - accuracy: 0.9084 - val_loss: 0.6619 - val_accuracy: 0.9160\n",
            "Epoch 8/10\n",
            "2/2 [==============================] - 1s 653ms/step - loss: 0.4304 - accuracy: 0.9089 - val_loss: 0.6698 - val_accuracy: 0.9168\n",
            "Epoch 9/10\n",
            "2/2 [==============================] - 2s 710ms/step - loss: 0.3772 - accuracy: 0.9091 - val_loss: 0.6819 - val_accuracy: 0.9173\n",
            "Epoch 10/10\n",
            "2/2 [==============================] - 1s 668ms/step - loss: 0.3363 - accuracy: 0.9092 - val_loss: 0.7000 - val_accuracy: 0.9175\n"
          ]
        },
        {
          "output_type": "execute_result",
          "data": {
            "text/plain": [
              "<keras.src.callbacks.History at 0x7c9fd884cbb0>"
            ]
          },
          "metadata": {},
          "execution_count": 121
        }
      ]
    },
    {
      "cell_type": "markdown",
      "source": [
        "Оценка модели"
      ],
      "metadata": {
        "id": "iAp74kZ58NAR"
      }
    },
    {
      "cell_type": "code",
      "source": [
        "loss, accuracy = model.evaluate([X_images_test, X_weather_test], y_masks_test)"
      ],
      "metadata": {
        "colab": {
          "base_uri": "https://localhost:8080/"
        },
        "id": "3ATO9q1AkYac",
        "outputId": "5ccf6416-a483-4284-e99e-558136f86fbd"
      },
      "execution_count": 115,
      "outputs": [
        {
          "output_type": "stream",
          "name": "stdout",
          "text": [
            "1/1 [==============================] - 0s 112ms/step - loss: 0.1266 - accuracy: 0.9870\n"
          ]
        }
      ]
    },
    {
      "cell_type": "markdown",
      "source": [
        "# Сохранение модели"
      ],
      "metadata": {
        "id": "9HWiGZ548RdT"
      }
    },
    {
      "cell_type": "code",
      "source": [
        "model.save('./unet-tabular_mm_v2')"
      ],
      "metadata": {
        "id": "AFn4vF8DoDCb"
      },
      "execution_count": 97,
      "outputs": []
    },
    {
      "cell_type": "code",
      "source": [
        "import shutil\n",
        "\n",
        "source_dir = './unet-tabular_mm_v2'\n",
        "archive_path = './unet-tabular_mm_v2'\n",
        "\n",
        "shutil.make_archive(archive_path, 'zip', source_dir, verbose=True)"
      ],
      "metadata": {
        "colab": {
          "base_uri": "https://localhost:8080/",
          "height": 36
        },
        "id": "IwmHgXCBo-cr",
        "outputId": "357f2e23-e6cb-4f4c-da3c-56c44b3e8b9a"
      },
      "execution_count": 98,
      "outputs": [
        {
          "output_type": "execute_result",
          "data": {
            "text/plain": [
              "'/content/unet-tabular_mm_v2.zip'"
            ],
            "application/vnd.google.colaboratory.intrinsic+json": {
              "type": "string"
            }
          },
          "metadata": {},
          "execution_count": 98
        }
      ]
    },
    {
      "cell_type": "markdown",
      "source": [
        "# Предобработка файлов и предсказание маски"
      ],
      "metadata": {
        "id": "9UsilGzp8ZHX"
      }
    },
    {
      "cell_type": "code",
      "source": [
        "# Путь к файлам\n",
        "image_path = './test.tiff'\n",
        "csv_path = './test_weather.csv'\n",
        "\n",
        "# Загрузка изображения\n",
        "with rasterio.open(image_path) as src:\n",
        "    img = src.read()  # Чтение всех каналов\n",
        "    img = img.transpose(1, 2, 0)  # Перестановка осей для совместимости с skimage\n",
        "\n",
        "# Приведение изображения к одному размеру\n",
        "target_size = (256, 256)  # Пример целевого размера\n",
        "img_resized = resize(img, target_size, anti_aliasing=True)\n",
        "\n",
        "# Нормализация значений пикселей\n",
        "img_resized = img_resized / 255.0\n",
        "\n",
        "# Загрузка погодных данных\n",
        "weather_data = pd.read_csv(csv_path, sep=\";\")\n",
        "weather_data = weather_data.drop(columns=['time', 'Порывы ветра'])\n",
        "weather_data = weather_data.fillna(weather_data.mean())\n",
        "weather_data = weather_data.fillna(0)\n",
        "\n",
        "# Выбор необходимых признаков\n",
        "weather_features = weather_data[['Тсред', 'Тмин', 'Тмакс', 'Осадки всего', 'Направление ветра', 'Скорость ветра', 'Давление на уровне моря']].values\n",
        "\n",
        "# Преобразование в формат, совместимый с моделью\n",
        "weather_features = np.pad(weather_features, ((0, 0), (0, 0)), 'constant')\n",
        "\n",
        "# Создание входных данных для модели\n",
        "image_input = np.expand_dims(img_resized, axis=0)  # Добавление размерности для батча\n",
        "weather_input = np.expand_dims(weather_features, axis=0)  # Добавление размерности для батча\n",
        "\n",
        "# Предсказание\n",
        "prediction = model.predict([image_input, weather_input])\n",
        "\n",
        "# Удаление лишней оси из предсказанной маски\n",
        "predicted_mask = np.argmax(prediction, axis=-1)  # Удаление первой оси и получение индексов классов\n",
        "\n",
        "resized_pred = resize(predicted_mask.squeeze(), (316, 516), order=0)\n",
        "\n",
        "# Преобразование в бинарную маску (если необходимо)\n",
        "pred_mask = (resized_pred > 0).astype(np.uint8)"
      ],
      "metadata": {
        "id": "dFupoShKX_M4",
        "colab": {
          "base_uri": "https://localhost:8080/"
        },
        "outputId": "4f332cec-ad35-4bc9-e1b9-490be3eb232b"
      },
      "execution_count": 116,
      "outputs": [
        {
          "output_type": "stream",
          "name": "stdout",
          "text": [
            "1/1 [==============================] - 0s 175ms/step\n"
          ]
        }
      ]
    },
    {
      "cell_type": "markdown",
      "source": [
        "Сохранение предсказания"
      ],
      "metadata": {
        "id": "vHM6OH8j8eHG"
      }
    },
    {
      "cell_type": "code",
      "source": [
        "df = pd.DataFrame(pred_mask)\n",
        "df.to_csv(\"submit.csv\", sep=',', index=False, header=False)"
      ],
      "metadata": {
        "id": "Nmkj1NnusxmC"
      },
      "execution_count": 117,
      "outputs": []
    },
    {
      "cell_type": "code",
      "source": [],
      "metadata": {
        "id": "QixY6lg21IrK"
      },
      "execution_count": null,
      "outputs": []
    }
  ]
}